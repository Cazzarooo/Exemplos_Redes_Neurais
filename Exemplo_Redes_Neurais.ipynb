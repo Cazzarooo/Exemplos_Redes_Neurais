{
  "nbformat": 4,
  "nbformat_minor": 0,
  "metadata": {
    "colab": {
      "provenance": [],
      "include_colab_link": true
    },
    "kernelspec": {
      "name": "python3",
      "display_name": "Python 3"
    },
    "language_info": {
      "name": "python"
    }
  },
  "cells": [
    {
      "cell_type": "markdown",
      "metadata": {
        "id": "view-in-github",
        "colab_type": "text"
      },
      "source": [
        "<a href=\"https://colab.research.google.com/github/Cazzarooo/Exemplos_Redes_Neurais/blob/main/Exemplo_Redes_Neurais.ipynb\" target=\"_parent\"><img src=\"https://colab.research.google.com/assets/colab-badge.svg\" alt=\"Open In Colab\"/></a>"
      ]
    },
    {
      "cell_type": "code",
      "source": [
        "# Importando as bibliotecas para trabalhar com redes neurais\n",
        "from keras.models import Sequential\n",
        "from keras.layers import Dense"
      ],
      "metadata": {
        "id": "47WTtMRQ3-i4"
      },
      "execution_count": 1,
      "outputs": []
    },
    {
      "cell_type": "code",
      "execution_count": 2,
      "metadata": {
        "id": "33tgILzD3523"
      },
      "outputs": [],
      "source": [
        "# Importando as bibliotecas necessárias\n",
        "import numpy as np\n",
        "import pandas as pd\n",
        "\n",
        "# Dataset Iris\n",
        "from sklearn.datasets import load_iris\n",
        "\n",
        "# Ferramentas de pré processamento\n",
        "from sklearn.model_selection import train_test_split\n",
        "from sklearn.preprocessing import OneHotEncoder\n",
        "from sklearn.preprocessing import StandardScaler"
      ]
    },
    {
      "cell_type": "code",
      "source": [
        "# Carregando o conjunto de dados Iris\n",
        "iris = load_iris()\n",
        "X = iris.data\n",
        "y = iris.target"
      ],
      "metadata": {
        "id": "78Meefm04ah3"
      },
      "execution_count": 3,
      "outputs": []
    },
    {
      "cell_type": "code",
      "source": [
        "# Pré-processamento dos dados\n",
        "scaler = StandardScaler()\n",
        "X_scaled = scaler.fit_transform(X)"
      ],
      "metadata": {
        "id": "E0b3Zfnb4g5F"
      },
      "execution_count": 4,
      "outputs": []
    },
    {
      "cell_type": "code",
      "source": [
        "# Dividindo em conjunto de treinamento e teste\n",
        "X_train, X_test, y_train, y_test = train_test_split(X_scaled, y, test_size=0.2, random_state=42)"
      ],
      "metadata": {
        "id": "uKuwLOZT4kaD"
      },
      "execution_count": 5,
      "outputs": []
    },
    {
      "cell_type": "code",
      "source": [
        "# Codificando as variáveis de saída (target)\n",
        "encoder = OneHotEncoder(categories='auto')\n",
        "y_train_encoded = encoder.fit_transform(y_train.reshape(-1, 1)).toarray()\n",
        "y_test_encoded = encoder.transform(y_test.reshape(-1, 1)).toarray()\n",
        "y_train_encoded"
      ],
      "metadata": {
        "id": "H3Q4022T4nd4",
        "colab": {
          "base_uri": "https://localhost:8080/"
        },
        "outputId": "33fd0af3-8530-469c-da23-f4c63d9047f9"
      },
      "execution_count": 6,
      "outputs": [
        {
          "output_type": "execute_result",
          "data": {
            "text/plain": [
              "array([[1., 0., 0.],\n",
              "       [1., 0., 0.],\n",
              "       [0., 1., 0.],\n",
              "       [1., 0., 0.],\n",
              "       [1., 0., 0.],\n",
              "       [0., 0., 1.],\n",
              "       [0., 1., 0.],\n",
              "       [1., 0., 0.],\n",
              "       [1., 0., 0.],\n",
              "       [1., 0., 0.],\n",
              "       [0., 0., 1.],\n",
              "       [0., 1., 0.],\n",
              "       [0., 1., 0.],\n",
              "       [1., 0., 0.],\n",
              "       [1., 0., 0.],\n",
              "       [0., 1., 0.],\n",
              "       [0., 0., 1.],\n",
              "       [0., 0., 1.],\n",
              "       [0., 1., 0.],\n",
              "       [0., 0., 1.],\n",
              "       [0., 1., 0.],\n",
              "       [0., 0., 1.],\n",
              "       [0., 1., 0.],\n",
              "       [1., 0., 0.],\n",
              "       [0., 0., 1.],\n",
              "       [0., 1., 0.],\n",
              "       [1., 0., 0.],\n",
              "       [1., 0., 0.],\n",
              "       [1., 0., 0.],\n",
              "       [0., 1., 0.],\n",
              "       [0., 0., 1.],\n",
              "       [1., 0., 0.],\n",
              "       [1., 0., 0.],\n",
              "       [1., 0., 0.],\n",
              "       [0., 1., 0.],\n",
              "       [1., 0., 0.],\n",
              "       [0., 1., 0.],\n",
              "       [0., 0., 1.],\n",
              "       [1., 0., 0.],\n",
              "       [0., 1., 0.],\n",
              "       [0., 0., 1.],\n",
              "       [1., 0., 0.],\n",
              "       [0., 0., 1.],\n",
              "       [0., 0., 1.],\n",
              "       [0., 1., 0.],\n",
              "       [0., 1., 0.],\n",
              "       [0., 0., 1.],\n",
              "       [0., 1., 0.],\n",
              "       [1., 0., 0.],\n",
              "       [0., 1., 0.],\n",
              "       [0., 0., 1.],\n",
              "       [1., 0., 0.],\n",
              "       [1., 0., 0.],\n",
              "       [0., 1., 0.],\n",
              "       [0., 1., 0.],\n",
              "       [1., 0., 0.],\n",
              "       [0., 0., 1.],\n",
              "       [1., 0., 0.],\n",
              "       [1., 0., 0.],\n",
              "       [0., 1., 0.],\n",
              "       [0., 1., 0.],\n",
              "       [0., 0., 1.],\n",
              "       [0., 1., 0.],\n",
              "       [0., 0., 1.],\n",
              "       [0., 0., 1.],\n",
              "       [0., 1., 0.],\n",
              "       [1., 0., 0.],\n",
              "       [1., 0., 0.],\n",
              "       [0., 0., 1.],\n",
              "       [0., 0., 1.],\n",
              "       [1., 0., 0.],\n",
              "       [1., 0., 0.],\n",
              "       [1., 0., 0.],\n",
              "       [0., 1., 0.],\n",
              "       [0., 0., 1.],\n",
              "       [1., 0., 0.],\n",
              "       [0., 0., 1.],\n",
              "       [0., 0., 1.],\n",
              "       [1., 0., 0.],\n",
              "       [0., 1., 0.],\n",
              "       [0., 1., 0.],\n",
              "       [0., 0., 1.],\n",
              "       [0., 1., 0.],\n",
              "       [0., 0., 1.],\n",
              "       [1., 0., 0.],\n",
              "       [0., 0., 1.],\n",
              "       [0., 1., 0.],\n",
              "       [0., 0., 1.],\n",
              "       [0., 1., 0.],\n",
              "       [0., 1., 0.],\n",
              "       [0., 1., 0.],\n",
              "       [1., 0., 0.],\n",
              "       [0., 1., 0.],\n",
              "       [0., 1., 0.],\n",
              "       [1., 0., 0.],\n",
              "       [0., 1., 0.],\n",
              "       [0., 0., 1.],\n",
              "       [0., 0., 1.],\n",
              "       [1., 0., 0.],\n",
              "       [0., 1., 0.],\n",
              "       [0., 0., 1.],\n",
              "       [0., 0., 1.],\n",
              "       [1., 0., 0.],\n",
              "       [0., 0., 1.],\n",
              "       [1., 0., 0.],\n",
              "       [0., 1., 0.],\n",
              "       [0., 0., 1.],\n",
              "       [0., 0., 1.],\n",
              "       [0., 1., 0.],\n",
              "       [0., 0., 1.],\n",
              "       [0., 1., 0.],\n",
              "       [0., 1., 0.],\n",
              "       [0., 0., 1.],\n",
              "       [0., 0., 1.],\n",
              "       [1., 0., 0.],\n",
              "       [0., 1., 0.],\n",
              "       [0., 0., 1.],\n",
              "       [1., 0., 0.],\n",
              "       [0., 1., 0.],\n",
              "       [0., 0., 1.]])"
            ]
          },
          "metadata": {},
          "execution_count": 6
        }
      ]
    },
    {
      "cell_type": "code",
      "source": [
        "# Criando o modelo de rede neural\n",
        "model = Sequential()\n",
        "# Primeira camada terá 10 neurônios e a camada de entrada terá uma entrada.\n",
        "model.add(Dense(10, input_shape=(X_train.shape[1],), activation='relu'))\n",
        "# Segunda camada terá 8 neurônios.\n",
        "model.add(Dense(8, activation='relu'))\n",
        "# A camada de saída terá três neurônios\n",
        "model.add(Dense(3, activation='softmax'))  # 3 classes no Iris dataset"
      ],
      "metadata": {
        "id": "iKNayFrB4sXQ"
      },
      "execution_count": 7,
      "outputs": []
    },
    {
      "cell_type": "code",
      "source": [
        "# Compilando o modelo\n",
        "model.compile(optimizer='adam', loss='categorical_crossentropy', metrics=['accuracy'])"
      ],
      "metadata": {
        "id": "3Tmg7DO24vrm"
      },
      "execution_count": 8,
      "outputs": []
    },
    {
      "cell_type": "code",
      "source": [
        "# Treinando o modelo\n",
        "model.fit(X_train, y_train_encoded, epochs=100, batch_size=5, validation_data=(X_test, y_test_encoded))"
      ],
      "metadata": {
        "id": "CFa_Ojkr54X0",
        "colab": {
          "base_uri": "https://localhost:8080/"
        },
        "outputId": "95d10b5e-b60b-422d-e698-b90cc9e5407a"
      },
      "execution_count": 9,
      "outputs": [
        {
          "output_type": "stream",
          "name": "stdout",
          "text": [
            "Epoch 1/100\n",
            "24/24 [==============================] - 4s 29ms/step - loss: 1.0670 - accuracy: 0.5417 - val_loss: 0.9971 - val_accuracy: 0.6667\n",
            "Epoch 2/100\n",
            "24/24 [==============================] - 0s 11ms/step - loss: 0.9457 - accuracy: 0.6917 - val_loss: 0.8890 - val_accuracy: 0.9000\n",
            "Epoch 3/100\n",
            "24/24 [==============================] - 0s 6ms/step - loss: 0.8565 - accuracy: 0.7583 - val_loss: 0.8009 - val_accuracy: 0.9000\n",
            "Epoch 4/100\n",
            "24/24 [==============================] - 0s 10ms/step - loss: 0.7836 - accuracy: 0.8000 - val_loss: 0.7318 - val_accuracy: 0.9333\n",
            "Epoch 5/100\n",
            "24/24 [==============================] - 0s 7ms/step - loss: 0.7277 - accuracy: 0.8250 - val_loss: 0.6760 - val_accuracy: 0.9333\n",
            "Epoch 6/100\n",
            "24/24 [==============================] - 0s 6ms/step - loss: 0.6808 - accuracy: 0.8333 - val_loss: 0.6299 - val_accuracy: 0.9333\n",
            "Epoch 7/100\n",
            "24/24 [==============================] - 0s 8ms/step - loss: 0.6405 - accuracy: 0.8333 - val_loss: 0.5858 - val_accuracy: 0.9333\n",
            "Epoch 8/100\n",
            "24/24 [==============================] - 0s 10ms/step - loss: 0.6027 - accuracy: 0.8250 - val_loss: 0.5459 - val_accuracy: 0.9333\n",
            "Epoch 9/100\n",
            "24/24 [==============================] - 0s 10ms/step - loss: 0.5682 - accuracy: 0.8417 - val_loss: 0.5079 - val_accuracy: 0.9333\n",
            "Epoch 10/100\n",
            "24/24 [==============================] - 0s 7ms/step - loss: 0.5362 - accuracy: 0.8583 - val_loss: 0.4705 - val_accuracy: 0.9333\n",
            "Epoch 11/100\n",
            "24/24 [==============================] - 0s 6ms/step - loss: 0.5067 - accuracy: 0.8500 - val_loss: 0.4358 - val_accuracy: 0.9333\n",
            "Epoch 12/100\n",
            "24/24 [==============================] - 0s 5ms/step - loss: 0.4806 - accuracy: 0.8500 - val_loss: 0.4026 - val_accuracy: 0.9333\n",
            "Epoch 13/100\n",
            "24/24 [==============================] - 0s 3ms/step - loss: 0.4513 - accuracy: 0.8667 - val_loss: 0.3738 - val_accuracy: 0.9333\n",
            "Epoch 14/100\n",
            "24/24 [==============================] - 0s 4ms/step - loss: 0.4263 - accuracy: 0.8750 - val_loss: 0.3454 - val_accuracy: 0.9333\n",
            "Epoch 15/100\n",
            "24/24 [==============================] - 0s 4ms/step - loss: 0.4003 - accuracy: 0.8833 - val_loss: 0.3185 - val_accuracy: 0.9333\n",
            "Epoch 16/100\n",
            "24/24 [==============================] - 0s 3ms/step - loss: 0.3785 - accuracy: 0.8917 - val_loss: 0.2936 - val_accuracy: 0.9333\n",
            "Epoch 17/100\n",
            "24/24 [==============================] - 0s 4ms/step - loss: 0.3559 - accuracy: 0.8917 - val_loss: 0.2700 - val_accuracy: 0.9333\n",
            "Epoch 18/100\n",
            "24/24 [==============================] - 0s 4ms/step - loss: 0.3378 - accuracy: 0.9250 - val_loss: 0.2490 - val_accuracy: 0.9333\n",
            "Epoch 19/100\n",
            "24/24 [==============================] - 0s 4ms/step - loss: 0.3150 - accuracy: 0.9333 - val_loss: 0.2306 - val_accuracy: 0.9333\n",
            "Epoch 20/100\n",
            "24/24 [==============================] - 0s 3ms/step - loss: 0.2962 - accuracy: 0.9250 - val_loss: 0.2130 - val_accuracy: 0.9333\n",
            "Epoch 21/100\n",
            "24/24 [==============================] - 0s 3ms/step - loss: 0.2786 - accuracy: 0.9333 - val_loss: 0.1987 - val_accuracy: 0.9333\n",
            "Epoch 22/100\n",
            "24/24 [==============================] - 0s 4ms/step - loss: 0.2631 - accuracy: 0.9417 - val_loss: 0.1861 - val_accuracy: 0.9333\n",
            "Epoch 23/100\n",
            "24/24 [==============================] - 0s 3ms/step - loss: 0.2499 - accuracy: 0.9500 - val_loss: 0.1757 - val_accuracy: 0.9667\n",
            "Epoch 24/100\n",
            "24/24 [==============================] - 0s 4ms/step - loss: 0.2377 - accuracy: 0.9417 - val_loss: 0.1673 - val_accuracy: 0.9667\n",
            "Epoch 25/100\n",
            "24/24 [==============================] - 0s 5ms/step - loss: 0.2238 - accuracy: 0.9417 - val_loss: 0.1586 - val_accuracy: 0.9667\n",
            "Epoch 26/100\n",
            "24/24 [==============================] - 0s 5ms/step - loss: 0.2159 - accuracy: 0.9500 - val_loss: 0.1477 - val_accuracy: 0.9667\n",
            "Epoch 27/100\n",
            "24/24 [==============================] - 0s 5ms/step - loss: 0.2050 - accuracy: 0.9500 - val_loss: 0.1425 - val_accuracy: 0.9667\n",
            "Epoch 28/100\n",
            "24/24 [==============================] - 0s 6ms/step - loss: 0.1956 - accuracy: 0.9500 - val_loss: 0.1351 - val_accuracy: 0.9667\n",
            "Epoch 29/100\n",
            "24/24 [==============================] - 0s 5ms/step - loss: 0.1911 - accuracy: 0.9500 - val_loss: 0.1277 - val_accuracy: 1.0000\n",
            "Epoch 30/100\n",
            "24/24 [==============================] - 0s 5ms/step - loss: 0.1807 - accuracy: 0.9583 - val_loss: 0.1238 - val_accuracy: 0.9667\n",
            "Epoch 31/100\n",
            "24/24 [==============================] - 0s 5ms/step - loss: 0.1746 - accuracy: 0.9583 - val_loss: 0.1183 - val_accuracy: 1.0000\n",
            "Epoch 32/100\n",
            "24/24 [==============================] - 0s 6ms/step - loss: 0.1680 - accuracy: 0.9500 - val_loss: 0.1146 - val_accuracy: 1.0000\n",
            "Epoch 33/100\n",
            "24/24 [==============================] - 0s 5ms/step - loss: 0.1619 - accuracy: 0.9583 - val_loss: 0.1073 - val_accuracy: 1.0000\n",
            "Epoch 34/100\n",
            "24/24 [==============================] - 0s 5ms/step - loss: 0.1561 - accuracy: 0.9583 - val_loss: 0.1040 - val_accuracy: 1.0000\n",
            "Epoch 35/100\n",
            "24/24 [==============================] - 0s 5ms/step - loss: 0.1518 - accuracy: 0.9583 - val_loss: 0.1008 - val_accuracy: 1.0000\n",
            "Epoch 36/100\n",
            "24/24 [==============================] - 0s 6ms/step - loss: 0.1474 - accuracy: 0.9583 - val_loss: 0.0997 - val_accuracy: 1.0000\n",
            "Epoch 37/100\n",
            "24/24 [==============================] - 0s 5ms/step - loss: 0.1422 - accuracy: 0.9500 - val_loss: 0.0960 - val_accuracy: 1.0000\n",
            "Epoch 38/100\n",
            "24/24 [==============================] - 0s 5ms/step - loss: 0.1375 - accuracy: 0.9500 - val_loss: 0.0915 - val_accuracy: 1.0000\n",
            "Epoch 39/100\n",
            "24/24 [==============================] - 0s 5ms/step - loss: 0.1348 - accuracy: 0.9583 - val_loss: 0.0908 - val_accuracy: 1.0000\n",
            "Epoch 40/100\n",
            "24/24 [==============================] - 0s 5ms/step - loss: 0.1306 - accuracy: 0.9583 - val_loss: 0.0861 - val_accuracy: 1.0000\n",
            "Epoch 41/100\n",
            "24/24 [==============================] - 0s 5ms/step - loss: 0.1272 - accuracy: 0.9500 - val_loss: 0.0829 - val_accuracy: 1.0000\n",
            "Epoch 42/100\n",
            "24/24 [==============================] - 0s 5ms/step - loss: 0.1243 - accuracy: 0.9500 - val_loss: 0.0806 - val_accuracy: 1.0000\n",
            "Epoch 43/100\n",
            "24/24 [==============================] - 0s 7ms/step - loss: 0.1212 - accuracy: 0.9500 - val_loss: 0.0808 - val_accuracy: 1.0000\n",
            "Epoch 44/100\n",
            "24/24 [==============================] - 0s 6ms/step - loss: 0.1204 - accuracy: 0.9500 - val_loss: 0.0750 - val_accuracy: 1.0000\n",
            "Epoch 45/100\n",
            "24/24 [==============================] - 0s 6ms/step - loss: 0.1169 - accuracy: 0.9583 - val_loss: 0.0764 - val_accuracy: 1.0000\n",
            "Epoch 46/100\n",
            "24/24 [==============================] - 0s 5ms/step - loss: 0.1145 - accuracy: 0.9583 - val_loss: 0.0728 - val_accuracy: 1.0000\n",
            "Epoch 47/100\n",
            "24/24 [==============================] - 0s 6ms/step - loss: 0.1104 - accuracy: 0.9583 - val_loss: 0.0740 - val_accuracy: 1.0000\n",
            "Epoch 48/100\n",
            "24/24 [==============================] - 0s 5ms/step - loss: 0.1080 - accuracy: 0.9583 - val_loss: 0.0696 - val_accuracy: 1.0000\n",
            "Epoch 49/100\n",
            "24/24 [==============================] - 0s 5ms/step - loss: 0.1060 - accuracy: 0.9500 - val_loss: 0.0669 - val_accuracy: 1.0000\n",
            "Epoch 50/100\n",
            "24/24 [==============================] - 0s 3ms/step - loss: 0.1039 - accuracy: 0.9583 - val_loss: 0.0657 - val_accuracy: 1.0000\n",
            "Epoch 51/100\n",
            "24/24 [==============================] - 0s 3ms/step - loss: 0.1015 - accuracy: 0.9583 - val_loss: 0.0635 - val_accuracy: 1.0000\n",
            "Epoch 52/100\n",
            "24/24 [==============================] - 0s 3ms/step - loss: 0.0994 - accuracy: 0.9583 - val_loss: 0.0637 - val_accuracy: 1.0000\n",
            "Epoch 53/100\n",
            "24/24 [==============================] - 0s 4ms/step - loss: 0.0976 - accuracy: 0.9583 - val_loss: 0.0608 - val_accuracy: 1.0000\n",
            "Epoch 54/100\n",
            "24/24 [==============================] - 0s 3ms/step - loss: 0.0956 - accuracy: 0.9583 - val_loss: 0.0587 - val_accuracy: 1.0000\n",
            "Epoch 55/100\n",
            "24/24 [==============================] - 0s 3ms/step - loss: 0.0950 - accuracy: 0.9583 - val_loss: 0.0583 - val_accuracy: 1.0000\n",
            "Epoch 56/100\n",
            "24/24 [==============================] - 0s 3ms/step - loss: 0.0922 - accuracy: 0.9583 - val_loss: 0.0579 - val_accuracy: 1.0000\n",
            "Epoch 57/100\n",
            "24/24 [==============================] - 0s 3ms/step - loss: 0.0913 - accuracy: 0.9583 - val_loss: 0.0543 - val_accuracy: 1.0000\n",
            "Epoch 58/100\n",
            "24/24 [==============================] - 0s 4ms/step - loss: 0.0909 - accuracy: 0.9583 - val_loss: 0.0529 - val_accuracy: 1.0000\n",
            "Epoch 59/100\n",
            "24/24 [==============================] - 0s 4ms/step - loss: 0.0869 - accuracy: 0.9583 - val_loss: 0.0519 - val_accuracy: 1.0000\n",
            "Epoch 60/100\n",
            "24/24 [==============================] - 0s 3ms/step - loss: 0.0864 - accuracy: 0.9667 - val_loss: 0.0516 - val_accuracy: 1.0000\n",
            "Epoch 61/100\n",
            "24/24 [==============================] - 0s 4ms/step - loss: 0.0844 - accuracy: 0.9667 - val_loss: 0.0493 - val_accuracy: 1.0000\n",
            "Epoch 62/100\n",
            "24/24 [==============================] - 0s 4ms/step - loss: 0.0847 - accuracy: 0.9500 - val_loss: 0.0463 - val_accuracy: 1.0000\n",
            "Epoch 63/100\n",
            "24/24 [==============================] - 0s 4ms/step - loss: 0.0817 - accuracy: 0.9667 - val_loss: 0.0485 - val_accuracy: 1.0000\n",
            "Epoch 64/100\n",
            "24/24 [==============================] - 0s 4ms/step - loss: 0.0805 - accuracy: 0.9667 - val_loss: 0.0465 - val_accuracy: 1.0000\n",
            "Epoch 65/100\n",
            "24/24 [==============================] - 0s 4ms/step - loss: 0.0795 - accuracy: 0.9667 - val_loss: 0.0451 - val_accuracy: 1.0000\n",
            "Epoch 66/100\n",
            "24/24 [==============================] - 0s 4ms/step - loss: 0.0786 - accuracy: 0.9667 - val_loss: 0.0475 - val_accuracy: 1.0000\n",
            "Epoch 67/100\n",
            "24/24 [==============================] - 0s 5ms/step - loss: 0.0794 - accuracy: 0.9667 - val_loss: 0.0446 - val_accuracy: 1.0000\n",
            "Epoch 68/100\n",
            "24/24 [==============================] - 0s 4ms/step - loss: 0.0761 - accuracy: 0.9750 - val_loss: 0.0439 - val_accuracy: 1.0000\n",
            "Epoch 69/100\n",
            "24/24 [==============================] - 0s 4ms/step - loss: 0.0766 - accuracy: 0.9667 - val_loss: 0.0434 - val_accuracy: 1.0000\n",
            "Epoch 70/100\n",
            "24/24 [==============================] - 0s 4ms/step - loss: 0.0752 - accuracy: 0.9667 - val_loss: 0.0433 - val_accuracy: 1.0000\n",
            "Epoch 71/100\n",
            "24/24 [==============================] - 0s 4ms/step - loss: 0.0740 - accuracy: 0.9750 - val_loss: 0.0418 - val_accuracy: 1.0000\n",
            "Epoch 72/100\n",
            "24/24 [==============================] - 0s 3ms/step - loss: 0.0729 - accuracy: 0.9750 - val_loss: 0.0417 - val_accuracy: 1.0000\n",
            "Epoch 73/100\n",
            "24/24 [==============================] - 0s 3ms/step - loss: 0.0742 - accuracy: 0.9750 - val_loss: 0.0419 - val_accuracy: 1.0000\n",
            "Epoch 74/100\n",
            "24/24 [==============================] - 0s 4ms/step - loss: 0.0710 - accuracy: 0.9750 - val_loss: 0.0420 - val_accuracy: 1.0000\n",
            "Epoch 75/100\n",
            "24/24 [==============================] - 0s 4ms/step - loss: 0.0724 - accuracy: 0.9750 - val_loss: 0.0407 - val_accuracy: 1.0000\n",
            "Epoch 76/100\n",
            "24/24 [==============================] - 0s 4ms/step - loss: 0.0704 - accuracy: 0.9750 - val_loss: 0.0418 - val_accuracy: 1.0000\n",
            "Epoch 77/100\n",
            "24/24 [==============================] - 0s 3ms/step - loss: 0.0701 - accuracy: 0.9750 - val_loss: 0.0401 - val_accuracy: 1.0000\n",
            "Epoch 78/100\n",
            "24/24 [==============================] - 0s 3ms/step - loss: 0.0685 - accuracy: 0.9750 - val_loss: 0.0390 - val_accuracy: 1.0000\n",
            "Epoch 79/100\n",
            "24/24 [==============================] - 0s 3ms/step - loss: 0.0680 - accuracy: 0.9750 - val_loss: 0.0397 - val_accuracy: 1.0000\n",
            "Epoch 80/100\n",
            "24/24 [==============================] - 0s 4ms/step - loss: 0.0672 - accuracy: 0.9750 - val_loss: 0.0384 - val_accuracy: 1.0000\n",
            "Epoch 81/100\n",
            "24/24 [==============================] - 0s 3ms/step - loss: 0.0664 - accuracy: 0.9750 - val_loss: 0.0384 - val_accuracy: 1.0000\n",
            "Epoch 82/100\n",
            "24/24 [==============================] - 0s 4ms/step - loss: 0.0669 - accuracy: 0.9750 - val_loss: 0.0394 - val_accuracy: 1.0000\n",
            "Epoch 83/100\n",
            "24/24 [==============================] - 0s 4ms/step - loss: 0.0658 - accuracy: 0.9750 - val_loss: 0.0358 - val_accuracy: 1.0000\n",
            "Epoch 84/100\n",
            "24/24 [==============================] - 0s 4ms/step - loss: 0.0656 - accuracy: 0.9750 - val_loss: 0.0371 - val_accuracy: 1.0000\n",
            "Epoch 85/100\n",
            "24/24 [==============================] - 0s 4ms/step - loss: 0.0652 - accuracy: 0.9750 - val_loss: 0.0341 - val_accuracy: 1.0000\n",
            "Epoch 86/100\n",
            "24/24 [==============================] - 0s 3ms/step - loss: 0.0642 - accuracy: 0.9750 - val_loss: 0.0354 - val_accuracy: 1.0000\n",
            "Epoch 87/100\n",
            "24/24 [==============================] - 0s 4ms/step - loss: 0.0654 - accuracy: 0.9750 - val_loss: 0.0366 - val_accuracy: 1.0000\n",
            "Epoch 88/100\n",
            "24/24 [==============================] - 0s 3ms/step - loss: 0.0634 - accuracy: 0.9750 - val_loss: 0.0354 - val_accuracy: 1.0000\n",
            "Epoch 89/100\n",
            "24/24 [==============================] - 0s 4ms/step - loss: 0.0630 - accuracy: 0.9750 - val_loss: 0.0348 - val_accuracy: 1.0000\n",
            "Epoch 90/100\n",
            "24/24 [==============================] - 0s 4ms/step - loss: 0.0632 - accuracy: 0.9750 - val_loss: 0.0347 - val_accuracy: 1.0000\n",
            "Epoch 91/100\n",
            "24/24 [==============================] - 0s 3ms/step - loss: 0.0609 - accuracy: 0.9750 - val_loss: 0.0338 - val_accuracy: 1.0000\n",
            "Epoch 92/100\n",
            "24/24 [==============================] - 0s 3ms/step - loss: 0.0608 - accuracy: 0.9750 - val_loss: 0.0328 - val_accuracy: 1.0000\n",
            "Epoch 93/100\n",
            "24/24 [==============================] - 0s 3ms/step - loss: 0.0609 - accuracy: 0.9750 - val_loss: 0.0335 - val_accuracy: 1.0000\n",
            "Epoch 94/100\n",
            "24/24 [==============================] - 0s 4ms/step - loss: 0.0601 - accuracy: 0.9750 - val_loss: 0.0339 - val_accuracy: 1.0000\n",
            "Epoch 95/100\n",
            "24/24 [==============================] - 0s 3ms/step - loss: 0.0610 - accuracy: 0.9750 - val_loss: 0.0337 - val_accuracy: 1.0000\n",
            "Epoch 96/100\n",
            "24/24 [==============================] - 0s 3ms/step - loss: 0.0593 - accuracy: 0.9750 - val_loss: 0.0321 - val_accuracy: 1.0000\n",
            "Epoch 97/100\n",
            "24/24 [==============================] - 0s 5ms/step - loss: 0.0589 - accuracy: 0.9750 - val_loss: 0.0334 - val_accuracy: 1.0000\n",
            "Epoch 98/100\n",
            "24/24 [==============================] - 0s 3ms/step - loss: 0.0576 - accuracy: 0.9750 - val_loss: 0.0326 - val_accuracy: 1.0000\n",
            "Epoch 99/100\n",
            "24/24 [==============================] - 0s 3ms/step - loss: 0.0589 - accuracy: 0.9750 - val_loss: 0.0302 - val_accuracy: 1.0000\n",
            "Epoch 100/100\n",
            "24/24 [==============================] - 0s 4ms/step - loss: 0.0591 - accuracy: 0.9750 - val_loss: 0.0306 - val_accuracy: 1.0000\n"
          ]
        },
        {
          "output_type": "execute_result",
          "data": {
            "text/plain": [
              "<keras.src.callbacks.History at 0x796d8f3c6f80>"
            ]
          },
          "metadata": {},
          "execution_count": 9
        }
      ]
    },
    {
      "cell_type": "code",
      "source": [
        "# Avaliando o modelo\n",
        "loss, accuracy = model.evaluate(X_test, y_test_encoded)\n",
        "print(f'Acurácia do modelo: {accuracy}')"
      ],
      "metadata": {
        "id": "clBNIYU04YKO",
        "colab": {
          "base_uri": "https://localhost:8080/"
        },
        "outputId": "0ac228f8-ce85-4198-d6b5-a6519f3f9818"
      },
      "execution_count": 10,
      "outputs": [
        {
          "output_type": "stream",
          "name": "stdout",
          "text": [
            "1/1 [==============================] - 0s 178ms/step - loss: 0.0306 - accuracy: 1.0000\n",
            "Acurácia do modelo: 1.0\n"
          ]
        }
      ]
    }
  ]
}